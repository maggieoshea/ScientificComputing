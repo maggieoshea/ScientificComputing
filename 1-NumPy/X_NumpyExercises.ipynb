{
 "cells": [
  {
   "cell_type": "markdown",
   "metadata": {},
   "source": [
    "# NumPy exercises"
   ]
  },
  {
   "cell_type": "code",
   "execution_count": 4,
   "metadata": {},
   "outputs": [],
   "source": [
    "#import the Numpy package\n",
    "import numpy as np"
   ]
  },
  {
   "cell_type": "code",
   "execution_count": 2,
   "metadata": {},
   "outputs": [],
   "source": [
    "#Set the random seed\n",
    "np.random.seed(859)"
   ]
  },
  {
   "cell_type": "code",
   "execution_count": 20,
   "metadata": {
    "scrolled": true
   },
   "outputs": [
    {
     "data": {
      "text/plain": [
       "array([0.42255815, 0.7546315 , 0.15434521, 0.195563  , 0.52923742,\n",
       "       0.84563264, 0.53692927, 0.10062973, 0.17584931, 0.06455847,\n",
       "       0.95251862, 0.14251995, 0.93253472, 0.80490506, 0.82987014,\n",
       "       0.10734579, 0.99606908, 0.36307366, 0.97357366, 0.19954192,\n",
       "       0.65332959, 0.03989576, 0.0289763 , 0.74613546, 0.57462236,\n",
       "       0.63132034, 0.59196145, 0.60562991, 0.13409761, 0.56283536,\n",
       "       0.44158393, 0.09517148, 0.6107137 , 0.9190369 , 0.59496618,\n",
       "       0.31000755, 0.91762925, 0.71088969, 0.19820365, 0.50995713,\n",
       "       0.46033303, 0.72765561, 0.04195285, 0.5069119 , 0.80199131,\n",
       "       0.69471662, 0.75764885, 0.84595129, 0.00559662, 0.75116737,\n",
       "       0.55499287, 0.78714963, 0.58613351, 0.10853481, 0.31684168,\n",
       "       0.73260784, 0.99017394, 0.73599129, 0.37443579, 0.46714602,\n",
       "       0.81649109, 0.08249166, 0.72555453, 0.41203892, 0.79413369,\n",
       "       0.50689104, 0.29080898, 0.45357081, 0.35215014, 0.01848881,\n",
       "       0.96967125, 0.09692503, 0.16791844, 0.56437997, 0.17589533,\n",
       "       0.02549358, 0.17219004, 0.01784958, 0.6501105 , 0.44794062,\n",
       "       0.91785636, 0.75642863, 0.78790312, 0.16066764, 0.92152521,\n",
       "       0.53712371, 0.83764177, 0.85108257, 0.89009453, 0.38744749,\n",
       "       0.25054429, 0.4416668 , 0.68022771, 0.52863804, 0.98138696,\n",
       "       0.17334321, 0.56372438, 0.89809433, 0.95420444, 0.00564145])"
      ]
     },
     "execution_count": 20,
     "metadata": {},
     "output_type": "execute_result"
    }
   ],
   "source": [
    "#Create a random array of 100 values between 0 and 1\n",
    "arr_1 = np.random.rand(100)\n",
    "\n",
    "\n",
    "#Display the resulting array\n",
    "arr_1"
   ]
  },
  {
   "cell_type": "code",
   "execution_count": 14,
   "metadata": {},
   "outputs": [
    {
     "data": {
      "text/plain": [
       "(100,)"
      ]
     },
     "execution_count": 14,
     "metadata": {},
     "output_type": "execute_result"
    }
   ],
   "source": [
    "#Report the shape of the resulting array\n",
    "arr_1.shape"
   ]
  },
  {
   "cell_type": "code",
   "execution_count": 15,
   "metadata": {},
   "outputs": [
    {
     "data": {
      "text/plain": [
       "dtype('float64')"
      ]
     },
     "execution_count": 15,
     "metadata": {},
     "output_type": "execute_result"
    }
   ],
   "source": [
    "#Report the data type of the resulting array\n",
    "arr_1.dtype"
   ]
  },
  {
   "cell_type": "code",
   "execution_count": 17,
   "metadata": {},
   "outputs": [
    {
     "data": {
      "text/plain": [
       "0.4634853558185105"
      ]
     },
     "execution_count": 17,
     "metadata": {},
     "output_type": "execute_result"
    }
   ],
   "source": [
    "#Remote the mean value of all values in your array\n",
    "arr_1.mean()"
   ]
  },
  {
   "cell_type": "code",
   "execution_count": 21,
   "metadata": {},
   "outputs": [],
   "source": [
    "#Multiply each value in your array to get values between 0 and 100, saving the results as \"arr_2\"\n",
    "arr_2 = arr_1 * 100"
   ]
  },
  {
   "cell_type": "code",
   "execution_count": 23,
   "metadata": {},
   "outputs": [
    {
     "data": {
      "text/plain": [
       "array([[42.25581547, 75.46314971, 15.43452085, 19.55630041],\n",
       "       [52.92374206, 84.56326385, 53.69292726, 10.06297259],\n",
       "       [17.58493111,  6.45584678, 95.25186216, 14.25199497],\n",
       "       [93.25347205, 80.49050609, 82.98701354, 10.73457919],\n",
       "       [99.60690769, 36.30736571, 97.35736635, 19.95419229],\n",
       "       [65.33295886,  3.98957647,  2.89763006, 74.61354565],\n",
       "       [57.46223577, 63.13203435, 59.19614494, 60.562991  ],\n",
       "       [13.40976149, 56.28353628, 44.15839297,  9.51714817],\n",
       "       [61.07136967, 91.90368976, 59.49661764, 31.00075489],\n",
       "       [91.76292457, 71.0889693 , 19.82036506, 50.99571347],\n",
       "       [46.03330281, 72.76556135,  4.19528503, 50.69119047],\n",
       "       [80.19913103, 69.47166223, 75.76488461, 84.59512893],\n",
       "       [ 0.55966208, 75.11673711, 55.4992871 , 78.71496337],\n",
       "       [58.61335055, 10.85348129, 31.68416839, 73.26078399],\n",
       "       [99.01739372, 73.59912924, 37.44357912, 46.71460196],\n",
       "       [81.64910938,  8.24916556, 72.55545258, 41.20389159],\n",
       "       [79.41336946, 50.68910358, 29.08089808, 45.35708126],\n",
       "       [35.21501411,  1.84888124, 96.96712475,  9.69250282],\n",
       "       [16.7918439 , 56.43799739, 17.58953346,  2.54935786],\n",
       "       [17.21900407,  1.78495816, 65.01104962, 44.79406244],\n",
       "       [91.78563644, 75.64286282, 78.79031187, 16.06676387],\n",
       "       [92.1525212 , 53.71237141, 83.76417687, 85.10825697],\n",
       "       [89.00945289, 38.74474868, 25.05442933, 44.16668023],\n",
       "       [68.02277072, 52.86380378, 98.13869602, 17.33432078],\n",
       "       [56.37243768, 89.8094326 , 95.42044353,  0.56414511]])"
      ]
     },
     "execution_count": 23,
     "metadata": {},
     "output_type": "execute_result"
    }
   ],
   "source": [
    "#Reshape the array above to be 25 rows and 4 columns, saving the result as \"arr_3\"\n",
    "arr_3 = arr_2.reshape(25,4)\n"
   ]
  },
  {
   "cell_type": "code",
   "execution_count": 24,
   "metadata": {},
   "outputs": [
    {
     "data": {
      "text/plain": [
       "array([93.25347205, 80.49050609, 82.98701354, 10.73457919])"
      ]
     },
     "execution_count": 24,
     "metadata": {},
     "output_type": "execute_result"
    }
   ],
   "source": [
    "#Show the 3rd row of this array\n",
    "arr_3[3]"
   ]
  },
  {
   "cell_type": "code",
   "execution_count": 25,
   "metadata": {},
   "outputs": [
    {
     "data": {
      "text/plain": [
       "array([17.58493111,  6.45584678, 95.25186216, 14.25199497])"
      ]
     },
     "execution_count": 25,
     "metadata": {},
     "output_type": "execute_result"
    }
   ],
   "source": [
    "#Show the values in the 2nd column of this array\n",
    "arr_3[2]"
   ]
  },
  {
   "cell_type": "code",
   "execution_count": 26,
   "metadata": {},
   "outputs": [
    {
     "data": {
      "text/plain": [
       "<function ndarray.mean>"
      ]
     },
     "execution_count": 26,
     "metadata": {},
     "output_type": "execute_result"
    }
   ],
   "source": [
    "#Show the mean of the values in the 2nd column\n",
    "arr_3[2].ndarray.mean"
   ]
  },
  {
   "cell_type": "code",
   "execution_count": null,
   "metadata": {},
   "outputs": [],
   "source": []
  }
 ],
 "metadata": {
  "kernelspec": {
   "display_name": "Python 3",
   "language": "python",
   "name": "python3"
  },
  "language_info": {
   "codemirror_mode": {
    "name": "ipython",
    "version": 3
   },
   "file_extension": ".py",
   "mimetype": "text/x-python",
   "name": "python",
   "nbconvert_exporter": "python",
   "pygments_lexer": "ipython3",
   "version": "3.9.11"
  }
 },
 "nbformat": 4,
 "nbformat_minor": 4
}
